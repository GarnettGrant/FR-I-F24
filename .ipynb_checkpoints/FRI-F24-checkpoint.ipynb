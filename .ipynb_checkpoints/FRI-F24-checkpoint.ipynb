{
 "cells": [
  {
   "cell_type": "markdown",
   "metadata": {},
   "source": [
    "<b><h1 style=\"margin-bottom:-2px;text-align:center;\">Facial Recognition and Identification for ABC</h1></b>\n",
    "<p style=\"text-align:center;\">\n",
    "Final Project  - Synopsis <br>\n",
    "By: Alireza Akramian Arani, Damien Liscio, Garnett Grant, James Yan, Jordi Llobet Ferre <br>\n",
    "Professor: Vijayalakshmi Tiruchengode Angamuthu <br>\n",
    "Centennial College - F24 - COMP257 - SEC.402 - Group 4<br>\n",
    "</p>"
   ]
  },
  {
   "cell_type": "markdown",
   "metadata": {},
   "source": [
    "<b><h2 style=\"margin-bottom:0px;\">Description</h2></b>\n",
    "In this Project, We have been approached by a law enforcement security company ABC that would like to incorporate facial recognition and identification into their system. ABC has provided our team with the <a href=\"https://cs.nyu.edu/~roweis/data/umist_cropped.mat\"><u>umist_cropped.mat</u></a> dataset to train our system "
   ]
  },
  {
   "cell_type": "code",
   "execution_count": 1,
   "metadata": {},
   "outputs": [],
   "source": [
    "import scipy.io as sio  # for loading matlab files\n",
    "import numpy as np\n",
    "import pandas as pd\n",
    "import matplotlib.pyplot as plt\n",
    "from sklearn.model_selection import train_test_split\n",
    "from sklearn.decomposition import PCA\n",
    "from sklearn.metrics import accuracy_score, pairwise_distances\n",
    "from sklearn.preprocessing import StandardScaler\n",
    "from sklearn.pipeline import Pipeline\n",
    "\n",
    "import tensorflow as tf \n",
    "from tensorflow.keras.models import Sequential\n",
    "from tensorflow.keras.layers import Input, Dense\n",
    "\n",
    "from sklearn.cluster import KMeans\n",
    "from sklearn.metrics import silhouette_score\n",
    "from sklearn.mixture import GaussianMixture\n",
    "from sklearn.cluster import AgglomerativeClustering\n",
    "from scipy.spatial.distance import minkowski"
   ]
  },
  {
   "cell_type": "markdown",
   "metadata": {},
   "source": [
    "<b><h2 style=\"margin-bottom:0px;\">Training</h2></b>\n",
    "1. Split the training set, a validation set, and a test set using stratified sampling to ensure that there are the same number of images per person in each set. Provide your rationale for the split ratio"
   ]
  },
  {
   "cell_type": "markdown",
   "metadata": {},
   "source": [
    "<h3>Function - Organize Data and Flatten in Dataframe</h3>"
   ]
  },
  {
   "cell_type": "markdown",
   "metadata": {},
   "source": [
    "<b>Data from Supported Documentation</b>\n",
    "* Link - https://cs.nyu.edu/~roweis/data.html\n",
    "* Grayscale Faces - 8 bit [0-255]\n",
    "* 20 Different People\n",
    "* 575 Total Images\n",
    "* Size - 112 x 92\n",
    "\n",
    "\n",
    "<b>Findings/Notes in Data Exploration</b>\n",
    "* Dictionary When Loading\n",
    "    * \"dirname\" - classification per group of images\n",
    "    * \"facedat\" - groups of images per person\n",
    "* Values Stored/Wrapped in Object Array\n",
    "    * Third Value in Shapes Represent Instances of Image per Person\n",
    "* Classification Values are String Values; Converted to Numerical Values for Efficiency/Simplicity\n",
    "* Flattened Data Feature Length - 10304 (112 x 92)\n",
    "* Converted Data to Dataframe for Clarity\n",
    "* Appended Numerical Classification to Dataframe - \"target\"\n"
   ]
  },
  {
   "cell_type": "code",
   "execution_count": 2,
   "metadata": {},
   "outputs": [],
   "source": [
    "def organizeData(file_path):\n",
    "    \n",
    "    # Import Data\n",
    "    dataset = sio.loadmat(file_path)\n",
    "    \n",
    "    # Seperate Data (class/face position) \n",
    "    classification = dataset['dirnames']\n",
    "    face_data = dataset['facedat']\n",
    "    \n",
    "    # Transform Classifications to Numerical\n",
    "    for i in range(len(classification[0])):\n",
    "        classification[0][i] = i\n",
    "    \n",
    "    # Create an empty list to append to dataframe later on\n",
    "    face_data_list = []\n",
    "    class_list = []\n",
    "    \n",
    "    \n",
    "    # Grab Image and Classification Per Person\n",
    "    for person_i in range(len(face_data[0])):                                                  # [0] -> Index to Get First Row to Access Data Directly\n",
    "        print(\"==============================================================\")\n",
    "        print(f\"Number of Images for Person {person_i}: {face_data[0][person_i].shape[2]}\")                                                     \n",
    "        \n",
    "        for face_i in range(face_data[0][person_i].shape[2]):                                     \n",
    "            # Verification and Visualization\n",
    "            \"\"\"\n",
    "            print(face_data[0][person_i][:, :, face_i].shape)\n",
    "            plt.imshow(face_data[0][person_i][:, :, face_i])\n",
    "            plt.xticks([])\n",
    "            plt.yticks([])\n",
    "            plt.show()\n",
    "            \"\"\"\n",
    "            # Append Data\n",
    "            face_data_list.append(face_data[0][person_i][:, :, face_i].reshape(-1))             # Append Face Pics in Single Line\n",
    "            class_list.append(str(classification[0][person_i]))                                 # Append Numerical Class Per Person\n",
    "\n",
    "    \n",
    "    data_org = pd.DataFrame(face_data_list)\n",
    "    data_org['target'] = class_list\n",
    "\n",
    "    return data_org"
   ]
  },
  {
   "cell_type": "code",
   "execution_count": 3,
   "metadata": {},
   "outputs": [
    {
     "name": "stdout",
     "output_type": "stream",
     "text": [
      "==============================================================\n",
      "Number of Images for Person 0: 38\n",
      "==============================================================\n",
      "Number of Images for Person 1: 35\n",
      "==============================================================\n",
      "Number of Images for Person 2: 26\n",
      "==============================================================\n",
      "Number of Images for Person 3: 24\n",
      "==============================================================\n",
      "Number of Images for Person 4: 26\n",
      "==============================================================\n",
      "Number of Images for Person 5: 23\n",
      "==============================================================\n",
      "Number of Images for Person 6: 19\n",
      "==============================================================\n",
      "Number of Images for Person 7: 22\n",
      "==============================================================\n",
      "Number of Images for Person 8: 20\n",
      "==============================================================\n",
      "Number of Images for Person 9: 32\n",
      "==============================================================\n",
      "Number of Images for Person 10: 34\n",
      "==============================================================\n",
      "Number of Images for Person 11: 34\n",
      "==============================================================\n",
      "Number of Images for Person 12: 26\n",
      "==============================================================\n",
      "Number of Images for Person 13: 30\n",
      "==============================================================\n",
      "Number of Images for Person 14: 19\n",
      "==============================================================\n",
      "Number of Images for Person 15: 26\n",
      "==============================================================\n",
      "Number of Images for Person 16: 26\n",
      "==============================================================\n",
      "Number of Images for Person 17: 33\n",
      "==============================================================\n",
      "Number of Images for Person 18: 48\n",
      "==============================================================\n",
      "Number of Images for Person 19: 34\n"
     ]
    },
    {
     "data": {
      "text/html": [
       "<div>\n",
       "<style scoped>\n",
       "    .dataframe tbody tr th:only-of-type {\n",
       "        vertical-align: middle;\n",
       "    }\n",
       "\n",
       "    .dataframe tbody tr th {\n",
       "        vertical-align: top;\n",
       "    }\n",
       "\n",
       "    .dataframe thead th {\n",
       "        text-align: right;\n",
       "    }\n",
       "</style>\n",
       "<table border=\"1\" class=\"dataframe\">\n",
       "  <thead>\n",
       "    <tr style=\"text-align: right;\">\n",
       "      <th></th>\n",
       "      <th>0</th>\n",
       "      <th>1</th>\n",
       "      <th>2</th>\n",
       "      <th>3</th>\n",
       "      <th>4</th>\n",
       "      <th>5</th>\n",
       "      <th>6</th>\n",
       "      <th>7</th>\n",
       "      <th>8</th>\n",
       "      <th>9</th>\n",
       "      <th>...</th>\n",
       "      <th>10295</th>\n",
       "      <th>10296</th>\n",
       "      <th>10297</th>\n",
       "      <th>10298</th>\n",
       "      <th>10299</th>\n",
       "      <th>10300</th>\n",
       "      <th>10301</th>\n",
       "      <th>10302</th>\n",
       "      <th>10303</th>\n",
       "      <th>target</th>\n",
       "    </tr>\n",
       "  </thead>\n",
       "  <tbody>\n",
       "    <tr>\n",
       "      <th>0</th>\n",
       "      <td>233</td>\n",
       "      <td>234</td>\n",
       "      <td>234</td>\n",
       "      <td>233</td>\n",
       "      <td>234</td>\n",
       "      <td>232</td>\n",
       "      <td>232</td>\n",
       "      <td>168</td>\n",
       "      <td>99</td>\n",
       "      <td>78</td>\n",
       "      <td>...</td>\n",
       "      <td>154</td>\n",
       "      <td>151</td>\n",
       "      <td>147</td>\n",
       "      <td>143</td>\n",
       "      <td>140</td>\n",
       "      <td>141</td>\n",
       "      <td>141</td>\n",
       "      <td>140</td>\n",
       "      <td>136</td>\n",
       "      <td>0</td>\n",
       "    </tr>\n",
       "    <tr>\n",
       "      <th>1</th>\n",
       "      <td>234</td>\n",
       "      <td>234</td>\n",
       "      <td>234</td>\n",
       "      <td>234</td>\n",
       "      <td>233</td>\n",
       "      <td>232</td>\n",
       "      <td>202</td>\n",
       "      <td>98</td>\n",
       "      <td>79</td>\n",
       "      <td>77</td>\n",
       "      <td>...</td>\n",
       "      <td>154</td>\n",
       "      <td>150</td>\n",
       "      <td>147</td>\n",
       "      <td>141</td>\n",
       "      <td>140</td>\n",
       "      <td>137</td>\n",
       "      <td>138</td>\n",
       "      <td>137</td>\n",
       "      <td>137</td>\n",
       "      <td>0</td>\n",
       "    </tr>\n",
       "    <tr>\n",
       "      <th>2</th>\n",
       "      <td>234</td>\n",
       "      <td>234</td>\n",
       "      <td>234</td>\n",
       "      <td>234</td>\n",
       "      <td>233</td>\n",
       "      <td>230</td>\n",
       "      <td>225</td>\n",
       "      <td>109</td>\n",
       "      <td>85</td>\n",
       "      <td>84</td>\n",
       "      <td>...</td>\n",
       "      <td>174</td>\n",
       "      <td>168</td>\n",
       "      <td>164</td>\n",
       "      <td>157</td>\n",
       "      <td>152</td>\n",
       "      <td>151</td>\n",
       "      <td>148</td>\n",
       "      <td>145</td>\n",
       "      <td>145</td>\n",
       "      <td>0</td>\n",
       "    </tr>\n",
       "    <tr>\n",
       "      <th>3</th>\n",
       "      <td>234</td>\n",
       "      <td>234</td>\n",
       "      <td>234</td>\n",
       "      <td>234</td>\n",
       "      <td>234</td>\n",
       "      <td>234</td>\n",
       "      <td>234</td>\n",
       "      <td>232</td>\n",
       "      <td>229</td>\n",
       "      <td>205</td>\n",
       "      <td>...</td>\n",
       "      <td>168</td>\n",
       "      <td>162</td>\n",
       "      <td>157</td>\n",
       "      <td>155</td>\n",
       "      <td>150</td>\n",
       "      <td>144</td>\n",
       "      <td>144</td>\n",
       "      <td>142</td>\n",
       "      <td>143</td>\n",
       "      <td>0</td>\n",
       "    </tr>\n",
       "    <tr>\n",
       "      <th>4</th>\n",
       "      <td>234</td>\n",
       "      <td>234</td>\n",
       "      <td>234</td>\n",
       "      <td>234</td>\n",
       "      <td>234</td>\n",
       "      <td>234</td>\n",
       "      <td>234</td>\n",
       "      <td>234</td>\n",
       "      <td>229</td>\n",
       "      <td>211</td>\n",
       "      <td>...</td>\n",
       "      <td>176</td>\n",
       "      <td>170</td>\n",
       "      <td>164</td>\n",
       "      <td>162</td>\n",
       "      <td>157</td>\n",
       "      <td>152</td>\n",
       "      <td>150</td>\n",
       "      <td>148</td>\n",
       "      <td>148</td>\n",
       "      <td>0</td>\n",
       "    </tr>\n",
       "  </tbody>\n",
       "</table>\n",
       "<p>5 rows × 10305 columns</p>\n",
       "</div>"
      ],
      "text/plain": [
       "     0    1    2    3    4    5    6    7    8    9  ...  10295  10296  10297  \\\n",
       "0  233  234  234  233  234  232  232  168   99   78  ...    154    151    147   \n",
       "1  234  234  234  234  233  232  202   98   79   77  ...    154    150    147   \n",
       "2  234  234  234  234  233  230  225  109   85   84  ...    174    168    164   \n",
       "3  234  234  234  234  234  234  234  232  229  205  ...    168    162    157   \n",
       "4  234  234  234  234  234  234  234  234  229  211  ...    176    170    164   \n",
       "\n",
       "   10298  10299  10300  10301  10302  10303  target  \n",
       "0    143    140    141    141    140    136       0  \n",
       "1    141    140    137    138    137    137       0  \n",
       "2    157    152    151    148    145    145       0  \n",
       "3    155    150    144    144    142    143       0  \n",
       "4    162    157    152    150    148    148       0  \n",
       "\n",
       "[5 rows x 10305 columns]"
      ]
     },
     "execution_count": 3,
     "metadata": {},
     "output_type": "execute_result"
    }
   ],
   "source": [
    "df_organized = organizeData('umist_cropped.mat')\n",
    "df_organized.head()"
   ]
  },
  {
   "cell_type": "markdown",
   "metadata": {},
   "source": [
    "<h3>Seperate Class and Features</h3>"
   ]
  },
  {
   "cell_type": "code",
   "execution_count": 5,
   "metadata": {},
   "outputs": [],
   "source": [
    "target = df_organized['target']\n",
    "features = df_organized.drop('target', axis=1)"
   ]
  },
  {
   "cell_type": "markdown",
   "metadata": {},
   "source": [
    "<h3>Stratified Split: Train, Val, Test [60/20/20 Split]</h3>"
   ]
  },
  {
   "cell_type": "code",
   "execution_count": 6,
   "metadata": {},
   "outputs": [],
   "source": [
    "x_train, x_test, y_train, y_test = train_test_split(features, target, test_size=0.4, stratify=target, random_state=42)\n",
    "x_val, x_test, y_val, y_test = train_test_split(x_test, y_test, test_size=0.5, stratify=y_test, random_state=42)"
   ]
  },
  {
   "cell_type": "markdown",
   "metadata": {},
   "source": [
    "<b><h2 style=\"margin-bottom:0px;\">Analysis Report</h2></b>\n",
    "\n",
    "2. In the analysis report, discuss the rationale behind how your team preprocess the data. Include the mathematical equations used and any dimensionality reduction applied to the instanced and discuss its relevance to the problem at hand. (Note that your team will receive more points if you perform data preprocessing that help improve the eventual training process.)"
   ]
  },
  {
   "cell_type": "markdown",
   "metadata": {},
   "source": [
    "<h3>PCA Dimensionality Reduction</h3>"
   ]
  },
  {
   "cell_type": "code",
   "execution_count": 7,
   "metadata": {},
   "outputs": [],
   "source": [
    "pca = PCA(n_components=0.99)\n",
    "x_train_red = pca.fit_transform(x_train)\n",
    "x_test_red = pca.transform(x_test)\n",
    "x_val_red = pca.transform(x_val)"
   ]
  },
  {
   "cell_type": "markdown",
   "metadata": {},
   "source": [
    "<h3>Standardize Pixel Values - Not Normalize!</h3>"
   ]
  },
  {
   "cell_type": "code",
   "execution_count": 8,
   "metadata": {},
   "outputs": [],
   "source": [
    "scaler = StandardScaler()\n",
    "x_train_pre = scaler.fit_transform(x_train_red)\n",
    "x_test_pre = scaler.transform(x_test_red)\n",
    "x_val_pre = scaler.transform(x_val_red)"
   ]
  },
  {
   "cell_type": "markdown",
   "metadata": {},
   "source": [
    "<h3>One Hot Encode Labels</h3>"
   ]
  },
  {
   "cell_type": "code",
   "execution_count": 9,
   "metadata": {},
   "outputs": [],
   "source": [
    "one_hot_train = tf.one_hot(y_train, depth=len(y_train.unique()))\n",
    "one_hot_test = tf.one_hot(y_test, depth=len(y_test.unique()))\n",
    "one_hot_val = tf.one_hot(y_val, depth=len(y_val.unique()))"
   ]
  },
  {
   "cell_type": "markdown",
   "metadata": {},
   "source": [
    "<b><h2 style=\"margin-bottom:0px;\">Clustering</h2></b>\n",
    "\n",
    "3. Select a clustering technique taught in this course and apply it on the training instances. Provide the rationale behind your team’s choice of clustering technique and how your team tuned the parameters for the technique implemented. "
   ]
  },
  {
   "cell_type": "markdown",
   "metadata": {},
   "source": [
    "<h3>kMeans - Choosing the Optimal Number of Clusters from Silhouette Score</h3>"
   ]
  },
  {
   "cell_type": "code",
   "execution_count": 10,
   "metadata": {},
   "outputs": [
    {
     "name": "stderr",
     "output_type": "stream",
     "text": [
      "C:\\Users\\Snorlax\\anaconda3\\envs\\tf-gpu-vanilla\\lib\\site-packages\\sklearn\\cluster\\_kmeans.py:1429: UserWarning: KMeans is known to have a memory leak on Windows with MKL, when there are less chunks than available threads. You can avoid it by setting the environment variable OMP_NUM_THREADS=2.\n",
      "  warnings.warn(\n",
      "C:\\Users\\Snorlax\\anaconda3\\envs\\tf-gpu-vanilla\\lib\\site-packages\\sklearn\\cluster\\_kmeans.py:1429: UserWarning: KMeans is known to have a memory leak on Windows with MKL, when there are less chunks than available threads. You can avoid it by setting the environment variable OMP_NUM_THREADS=2.\n",
      "  warnings.warn(\n",
      "C:\\Users\\Snorlax\\anaconda3\\envs\\tf-gpu-vanilla\\lib\\site-packages\\sklearn\\cluster\\_kmeans.py:1429: UserWarning: KMeans is known to have a memory leak on Windows with MKL, when there are less chunks than available threads. You can avoid it by setting the environment variable OMP_NUM_THREADS=2.\n",
      "  warnings.warn(\n",
      "C:\\Users\\Snorlax\\anaconda3\\envs\\tf-gpu-vanilla\\lib\\site-packages\\sklearn\\cluster\\_kmeans.py:1429: UserWarning: KMeans is known to have a memory leak on Windows with MKL, when there are less chunks than available threads. You can avoid it by setting the environment variable OMP_NUM_THREADS=2.\n",
      "  warnings.warn(\n",
      "C:\\Users\\Snorlax\\anaconda3\\envs\\tf-gpu-vanilla\\lib\\site-packages\\sklearn\\cluster\\_kmeans.py:1429: UserWarning: KMeans is known to have a memory leak on Windows with MKL, when there are less chunks than available threads. You can avoid it by setting the environment variable OMP_NUM_THREADS=2.\n",
      "  warnings.warn(\n",
      "C:\\Users\\Snorlax\\anaconda3\\envs\\tf-gpu-vanilla\\lib\\site-packages\\sklearn\\cluster\\_kmeans.py:1429: UserWarning: KMeans is known to have a memory leak on Windows with MKL, when there are less chunks than available threads. You can avoid it by setting the environment variable OMP_NUM_THREADS=2.\n",
      "  warnings.warn(\n",
      "C:\\Users\\Snorlax\\anaconda3\\envs\\tf-gpu-vanilla\\lib\\site-packages\\sklearn\\cluster\\_kmeans.py:1429: UserWarning: KMeans is known to have a memory leak on Windows with MKL, when there are less chunks than available threads. You can avoid it by setting the environment variable OMP_NUM_THREADS=2.\n",
      "  warnings.warn(\n",
      "C:\\Users\\Snorlax\\anaconda3\\envs\\tf-gpu-vanilla\\lib\\site-packages\\sklearn\\cluster\\_kmeans.py:1429: UserWarning: KMeans is known to have a memory leak on Windows with MKL, when there are less chunks than available threads. You can avoid it by setting the environment variable OMP_NUM_THREADS=2.\n",
      "  warnings.warn(\n",
      "C:\\Users\\Snorlax\\anaconda3\\envs\\tf-gpu-vanilla\\lib\\site-packages\\sklearn\\cluster\\_kmeans.py:1429: UserWarning: KMeans is known to have a memory leak on Windows with MKL, when there are less chunks than available threads. You can avoid it by setting the environment variable OMP_NUM_THREADS=2.\n",
      "  warnings.warn(\n",
      "C:\\Users\\Snorlax\\anaconda3\\envs\\tf-gpu-vanilla\\lib\\site-packages\\sklearn\\cluster\\_kmeans.py:1429: UserWarning: KMeans is known to have a memory leak on Windows with MKL, when there are less chunks than available threads. You can avoid it by setting the environment variable OMP_NUM_THREADS=2.\n",
      "  warnings.warn(\n",
      "C:\\Users\\Snorlax\\anaconda3\\envs\\tf-gpu-vanilla\\lib\\site-packages\\sklearn\\cluster\\_kmeans.py:1429: UserWarning: KMeans is known to have a memory leak on Windows with MKL, when there are less chunks than available threads. You can avoid it by setting the environment variable OMP_NUM_THREADS=2.\n",
      "  warnings.warn(\n",
      "C:\\Users\\Snorlax\\anaconda3\\envs\\tf-gpu-vanilla\\lib\\site-packages\\sklearn\\cluster\\_kmeans.py:1429: UserWarning: KMeans is known to have a memory leak on Windows with MKL, when there are less chunks than available threads. You can avoid it by setting the environment variable OMP_NUM_THREADS=2.\n",
      "  warnings.warn(\n",
      "C:\\Users\\Snorlax\\anaconda3\\envs\\tf-gpu-vanilla\\lib\\site-packages\\sklearn\\cluster\\_kmeans.py:1429: UserWarning: KMeans is known to have a memory leak on Windows with MKL, when there are less chunks than available threads. You can avoid it by setting the environment variable OMP_NUM_THREADS=2.\n",
      "  warnings.warn(\n",
      "C:\\Users\\Snorlax\\anaconda3\\envs\\tf-gpu-vanilla\\lib\\site-packages\\sklearn\\cluster\\_kmeans.py:1429: UserWarning: KMeans is known to have a memory leak on Windows with MKL, when there are less chunks than available threads. You can avoid it by setting the environment variable OMP_NUM_THREADS=2.\n",
      "  warnings.warn(\n",
      "C:\\Users\\Snorlax\\anaconda3\\envs\\tf-gpu-vanilla\\lib\\site-packages\\sklearn\\cluster\\_kmeans.py:1429: UserWarning: KMeans is known to have a memory leak on Windows with MKL, when there are less chunks than available threads. You can avoid it by setting the environment variable OMP_NUM_THREADS=2.\n",
      "  warnings.warn(\n",
      "C:\\Users\\Snorlax\\anaconda3\\envs\\tf-gpu-vanilla\\lib\\site-packages\\sklearn\\cluster\\_kmeans.py:1429: UserWarning: KMeans is known to have a memory leak on Windows with MKL, when there are less chunks than available threads. You can avoid it by setting the environment variable OMP_NUM_THREADS=2.\n",
      "  warnings.warn(\n",
      "C:\\Users\\Snorlax\\anaconda3\\envs\\tf-gpu-vanilla\\lib\\site-packages\\sklearn\\cluster\\_kmeans.py:1429: UserWarning: KMeans is known to have a memory leak on Windows with MKL, when there are less chunks than available threads. You can avoid it by setting the environment variable OMP_NUM_THREADS=2.\n",
      "  warnings.warn(\n",
      "C:\\Users\\Snorlax\\anaconda3\\envs\\tf-gpu-vanilla\\lib\\site-packages\\sklearn\\cluster\\_kmeans.py:1429: UserWarning: KMeans is known to have a memory leak on Windows with MKL, when there are less chunks than available threads. You can avoid it by setting the environment variable OMP_NUM_THREADS=2.\n",
      "  warnings.warn(\n",
      "C:\\Users\\Snorlax\\anaconda3\\envs\\tf-gpu-vanilla\\lib\\site-packages\\sklearn\\cluster\\_kmeans.py:1429: UserWarning: KMeans is known to have a memory leak on Windows with MKL, when there are less chunks than available threads. You can avoid it by setting the environment variable OMP_NUM_THREADS=2.\n",
      "  warnings.warn(\n"
     ]
    },
    {
     "data": {
      "image/png": "[encoded data removed]",
      "text/plain": [
       "<Figure size 640x480 with 1 Axes>"
      ]
     },
     "metadata": {},
     "output_type": "display_data"
    },
    {
     "data": {
      "image/png": "[encoded data removed]",
      "text/plain": [
       "<Figure size 640x480 with 1 Axes>"
      ]
     },
     "metadata": {},
     "output_type": "display_data"
    }
   ],
   "source": [
    "sil_scores = []\n",
    "inertia_scores = []\n",
    "for i in range(2, 21):\n",
    "    kmeans = KMeans(n_clusters=i, random_state=42)\n",
    "    kmeans.fit(x_train_pre)\n",
    "    inertia_scores.append(kmeans.inertia_)\n",
    "    sil_scores.append(silhouette_score(x_train_pre, kmeans.labels_))\n",
    "\n",
    "plt.plot(range(2, 21), sil_scores, '-o')\n",
    "plt.xlabel('Number of Clusters')\n",
    "plt.ylabel('Silhouette Score')\n",
    "plt.title('Silhouette Score vs. Number of Clusters')\n",
    "plt.show()\n",
    "\n",
    "plt.plot(range(2, 21), inertia_scores, '-o')\n",
    "plt.xlabel('Number of Clusters')\n",
    "plt.ylabel('Inertia')\n",
    "plt.title('Inertia Score vs. Number of Clusters')\n",
    "plt.show()"
   ]
  },
  {
   "cell_type": "markdown",
   "metadata": {},
   "source": [
    "<h3>kMeans with Best Number of Clusters</h3>"
   ]
  },
  {
   "cell_type": "code",
   "execution_count": 11,
   "metadata": {},
   "outputs": [
    {
     "name": "stdout",
     "output_type": "stream",
     "text": [
      "Cluster 0: ['0' '1' '10' '11' '12' '13' '14' '15' '16' '17' '18' '19' '2' '3' '4' '5'\n",
      " '6' '7' '8' '9']\n",
      "Number of Images: 297\n",
      "Cluster 1: ['0' '10' '12' '13' '14' '15' '16' '17' '18' '19' '2' '3' '5' '6' '8' '9']\n",
      "Number of Images: 43\n",
      "Cluster 2: ['6' '8' '9']\n",
      "Number of Images: 5\n"
     ]
    },
    {
     "name": "stderr",
     "output_type": "stream",
     "text": [
      "C:\\Users\\Snorlax\\anaconda3\\envs\\tf-gpu-vanilla\\lib\\site-packages\\sklearn\\cluster\\_kmeans.py:1429: UserWarning: KMeans is known to have a memory leak on Windows with MKL, when there are less chunks than available threads. You can avoid it by setting the environment variable OMP_NUM_THREADS=2.\n",
      "  warnings.warn(\n"
     ]
    }
   ],
   "source": [
    "best_kmeans = KMeans(n_clusters=3, random_state=42)\n",
    "best_kmeans.fit(x_train_pre)\n",
    "\n",
    "for i in range(3):\n",
    "    unique, counts = np.unique(y_train[best_kmeans.labels_ == i], return_counts=True)\n",
    "    print(f\"Cluster {i}: {unique}\\nNumber of Images: {sum(counts)}\")"
   ]
  },
  {
   "cell_type": "markdown",
   "metadata": {},
   "source": [
    "<h3>Feature Engineering - Euclidean Distance from Centroid Features</h3>"
   ]
  },
  {
   "cell_type": "code",
   "execution_count": 12,
   "metadata": {},
   "outputs": [],
   "source": [
    "x_train_k = best_kmeans.transform(x_train_pre)\n",
    "x_test_k = best_kmeans.transform(x_test_pre)\n",
    "x_val_k = best_kmeans.transform(x_val_pre)"
   ]
  },
  {
   "cell_type": "markdown",
   "metadata": {},
   "source": [
    "<h3>Feature Engineering - Assigned Centroid Feature</h3>"
   ]
  },
  {
   "cell_type": "code",
   "execution_count": 13,
   "metadata": {},
   "outputs": [],
   "source": [
    "label_train = best_kmeans.labels_\n",
    "label_test = best_kmeans.predict(x_test_pre)\n",
    "label_val = best_kmeans.predict(x_val_pre)\n",
    "\n",
    "k_train_cl_oh = tf.one_hot(label_train, depth=len(np.unique(label_train)))\n",
    "k_test_cl_oh = tf.one_hot(label_test, depth=len(np.unique(label_train)))\n",
    "k_val_cl_oh = tf.one_hot(label_val, depth=len(np.unique(label_train)))"
   ]
  },
  {
   "cell_type": "markdown",
   "metadata": {},
   "source": [
    "<h3>Concatenate to Get Final Dataset</h3>"
   ]
  },
  {
   "cell_type": "code",
   "execution_count": 14,
   "metadata": {},
   "outputs": [],
   "source": [
    "x_train_transf = np.concatenate((x_train_pre, x_train_k, k_train_cl_oh), axis=1)\n",
    "x_test_transf = np.concatenate((x_test_pre, x_test_k, k_test_cl_oh), axis=1)\n",
    "x_val_transf = np.concatenate((x_val_pre, x_val_k, k_val_cl_oh), axis=1)"
   ]
  },
  {
   "cell_type": "markdown",
   "metadata": {},
   "source": [
    "<b><h2 style=\"margin-bottom:0px;\">Analysis Report - Architecture</h2></b>\n",
    "\n",
    "4. In the analysis report, clearly discuss - with illustrations - the architecture your team has selected for training and predicting the test instances. Discuss the rationale behind your team’s choice of activation functions, loss function, and how you tuned the hyperparameters of the network model."
   ]
  },
  {
   "cell_type": "markdown",
   "metadata": {},
   "source": [
    "<h3>MLP Model w/ Basic Original Dataset</h3>"
   ]
  },
  {
   "cell_type": "code",
   "execution_count": 19,
   "metadata": {},
   "outputs": [
    {
     "name": "stdout",
     "output_type": "stream",
     "text": [
      "WARNING:tensorflow:Please add `keras.layers.InputLayer` instead of `keras.Input` to Sequential model. `keras.Input` is intended to be used by Functional model.\n",
      "Model: \"sequential\"\n",
      "_________________________________________________________________\n",
      "Layer (type)                 Output Shape              Param #   \n",
      "=================================================================\n",
      "dense (Dense)                (None, 128)               27392     \n",
      "_________________________________________________________________\n",
      "dense_1 (Dense)              (None, 64)                8256      \n",
      "_________________________________________________________________\n",
      "dense_2 (Dense)              (None, 20)                1300      \n",
      "=================================================================\n",
      "Total params: 36,948\n",
      "Trainable params: 36,948\n",
      "Non-trainable params: 0\n",
      "_________________________________________________________________\n"
     ]
    }
   ],
   "source": [
    "base_model = Sequential()\n",
    "base_model.add(Input(shape=(x_train_pre.shape[1],)))\n",
    "base_model.add(Dense(128, activation='relu'))\n",
    "base_model.add(Dense(64, activation='relu'))\n",
    "base_model.add(Dense(len(y_train.unique()), activation='softmax'))\n",
    "\n",
    "base_model.compile(optimizer='adam',\n",
    "              loss='categorical_crossentropy',\n",
    "              metrics=['accuracy'])\n",
    "\n",
    "base_model.summary()"
   ]
  },
  {
   "cell_type": "markdown",
   "metadata": {},
   "source": [
    "<h3>MLP Model w/ Feature Engineered Dataset</h3>"
   ]
  },
  {
   "cell_type": "code",
   "execution_count": 20,
   "metadata": {},
   "outputs": [
    {
     "name": "stdout",
     "output_type": "stream",
     "text": [
      "WARNING:tensorflow:Please add `keras.layers.InputLayer` instead of `keras.Input` to Sequential model. `keras.Input` is intended to be used by Functional model.\n",
      "Model: \"sequential_1\"\n",
      "_________________________________________________________________\n",
      "Layer (type)                 Output Shape              Param #   \n",
      "=================================================================\n",
      "dense_3 (Dense)              (None, 128)               28160     \n",
      "_________________________________________________________________\n",
      "dense_4 (Dense)              (None, 64)                8256      \n",
      "_________________________________________________________________\n",
      "dense_5 (Dense)              (None, 20)                1300      \n",
      "=================================================================\n",
      "Total params: 37,716\n",
      "Trainable params: 37,716\n",
      "Non-trainable params: 0\n",
      "_________________________________________________________________\n"
     ]
    }
   ],
   "source": [
    "k_model = Sequential()\n",
    "k_model.add(Input(shape=(x_train_transf.shape[1],)))\n",
    "k_model.add(Dense(128, activation='relu'))\n",
    "k_model.add(Dense(64, activation='relu'))\n",
    "k_model.add(Dense(len(y_train.unique()), activation='softmax'))\n",
    "\n",
    "k_model.compile(optimizer='adam',\n",
    "              loss='categorical_crossentropy',\n",
    "              metrics=['accuracy'])\n",
    "\n",
    "k_model.summary()"
   ]
  },
  {
   "cell_type": "markdown",
   "metadata": {},
   "source": [
    "<b><h2 style=\"margin-bottom:0px;\">Results</h2></b>\n",
    "\n",
    "5. Discuss the results of the trained system in the report."
   ]
  },
  {
   "cell_type": "markdown",
   "metadata": {},
   "source": [
    "<h3>MLP Model w/ Basic Original Dataset</h3>"
   ]
  },
  {
   "cell_type": "markdown",
   "metadata": {},
   "source": [
    "<h4>Training w/ Validation</h4>"
   ]
  },
  {
   "cell_type": "code",
   "execution_count": 27,
   "metadata": {},
   "outputs": [
    {
     "name": "stdout",
     "output_type": "stream",
     "text": [
      "Epoch 1/50\n",
      "\u001b[1m11/11\u001b[0m \u001b[32m━━━━━━━━━━━━━━━━━━━━\u001b[0m\u001b[37m\u001b[0m \u001b[1m1s\u001b[0m 19ms/step - accuracy: 0.0523 - loss: 3.2079 - val_accuracy: 0.2000 - val_loss: 2.8241\n",
      "Epoch 2/50\n",
      "\u001b[1m11/11\u001b[0m \u001b[32m━━━━━━━━━━━━━━━━━━━━\u001b[0m\u001b[37m\u001b[0m \u001b[1m0s\u001b[0m 7ms/step - accuracy: 0.2490 - loss: 2.6084 - val_accuracy: 0.2696 - val_loss: 2.5540\n",
      "Epoch 3/50\n",
      "\u001b[1m11/11\u001b[0m \u001b[32m━━━━━━━━━━━━━━━━━━━━\u001b[0m\u001b[37m\u001b[0m \u001b[1m0s\u001b[0m 7ms/step - accuracy: 0.4926 - loss: 2.2326 - val_accuracy: 0.4522 - val_loss: 2.3231\n",
      "Epoch 4/50\n",
      "\u001b[1m11/11\u001b[0m \u001b[32m━━━━━━━━━━━━━━━━━━━━\u001b[0m\u001b[37m\u001b[0m \u001b[1m0s\u001b[0m 7ms/step - accuracy: 0.7527 - loss: 1.8192 - val_accuracy: 0.5565 - val_loss: 2.0693\n",
      "Epoch 5/50\n",
      "\u001b[1m11/11\u001b[0m \u001b[32m━━━━━━━━━━━━━━━━━━━━\u001b[0m\u001b[37m\u001b[0m \u001b[1m0s\u001b[0m 7ms/step - accuracy: 0.8763 - loss: 1.4393 - val_accuracy: 0.6783 - val_loss: 1.8090\n",
      "Epoch 6/50\n",
      "\u001b[1m11/11\u001b[0m \u001b[32m━━━━━━━━━━━━━━━━━━━━\u001b[0m\u001b[37m\u001b[0m \u001b[1m0s\u001b[0m 7ms/step - accuracy: 0.9440 - loss: 1.1225 - val_accuracy: 0.7478 - val_loss: 1.5478\n",
      "Epoch 7/50\n",
      "\u001b[1m11/11\u001b[0m \u001b[32m━━━━━━━━━━━━━━━━━━━━\u001b[0m\u001b[37m\u001b[0m \u001b[1m0s\u001b[0m 7ms/step - accuracy: 0.9872 - loss: 0.8425 - val_accuracy: 0.7826 - val_loss: 1.3207\n",
      "Epoch 8/50\n",
      "\u001b[1m11/11\u001b[0m \u001b[32m━━━━━━━━━━━━━━━━━━━━\u001b[0m\u001b[37m\u001b[0m \u001b[1m0s\u001b[0m 7ms/step - accuracy: 1.0000 - loss: 0.6015 - val_accuracy: 0.8174 - val_loss: 1.1158\n",
      "Epoch 9/50\n",
      "\u001b[1m11/11\u001b[0m \u001b[32m━━━━━━━━━━━━━━━━━━━━\u001b[0m\u001b[37m\u001b[0m \u001b[1m0s\u001b[0m 7ms/step - accuracy: 1.0000 - loss: 0.4123 - val_accuracy: 0.8348 - val_loss: 0.9446\n",
      "Epoch 10/50\n",
      "\u001b[1m11/11\u001b[0m \u001b[32m━━━━━━━━━━━━━━━━━━━━\u001b[0m\u001b[37m\u001b[0m \u001b[1m0s\u001b[0m 7ms/step - accuracy: 1.0000 - loss: 0.2668 - val_accuracy: 0.8435 - val_loss: 0.8254\n",
      "Epoch 11/50\n",
      "\u001b[1m11/11\u001b[0m \u001b[32m━━━━━━━━━━━━━━━━━━━━\u001b[0m\u001b[37m\u001b[0m \u001b[1m0s\u001b[0m 7ms/step - accuracy: 1.0000 - loss: 0.1914 - val_accuracy: 0.8696 - val_loss: 0.7321\n",
      "Epoch 12/50\n",
      "\u001b[1m11/11\u001b[0m \u001b[32m━━━━━━━━━━━━━━━━━━━━\u001b[0m\u001b[37m\u001b[0m \u001b[1m0s\u001b[0m 7ms/step - accuracy: 1.0000 - loss: 0.1339 - val_accuracy: 0.8696 - val_loss: 0.6640\n",
      "Epoch 13/50\n",
      "\u001b[1m11/11\u001b[0m \u001b[32m━━━━━━━━━━━━━━━━━━━━\u001b[0m\u001b[37m\u001b[0m \u001b[1m0s\u001b[0m 7ms/step - accuracy: 1.0000 - loss: 0.0920 - val_accuracy: 0.8783 - val_loss: 0.6157\n",
      "Epoch 14/50\n",
      "\u001b[1m11/11\u001b[0m \u001b[32m━━━━━━━━━━━━━━━━━━━━\u001b[0m\u001b[37m\u001b[0m \u001b[1m0s\u001b[0m 7ms/step - accuracy: 1.0000 - loss: 0.0769 - val_accuracy: 0.9043 - val_loss: 0.5770\n",
      "Epoch 15/50\n",
      "\u001b[1m11/11\u001b[0m \u001b[32m━━━━━━━━━━━━━━━━━━━━\u001b[0m\u001b[37m\u001b[0m \u001b[1m0s\u001b[0m 7ms/step - accuracy: 1.0000 - loss: 0.0587 - val_accuracy: 0.9217 - val_loss: 0.5449\n",
      "Epoch 16/50\n",
      "\u001b[1m11/11\u001b[0m \u001b[32m━━━━━━━━━━━━━━━━━━━━\u001b[0m\u001b[37m\u001b[0m \u001b[1m0s\u001b[0m 7ms/step - accuracy: 1.0000 - loss: 0.0476 - val_accuracy: 0.9130 - val_loss: 0.5203\n",
      "Epoch 17/50\n",
      "\u001b[1m11/11\u001b[0m \u001b[32m━━━━━━━━━━━━━━━━━━━━\u001b[0m\u001b[37m\u001b[0m \u001b[1m0s\u001b[0m 7ms/step - accuracy: 1.0000 - loss: 0.0426 - val_accuracy: 0.9217 - val_loss: 0.4993\n",
      "Epoch 18/50\n",
      "\u001b[1m11/11\u001b[0m \u001b[32m━━━━━━━━━━━━━━━━━━━━\u001b[0m\u001b[37m\u001b[0m \u001b[1m0s\u001b[0m 6ms/step - accuracy: 1.0000 - loss: 0.0362 - val_accuracy: 0.9130 - val_loss: 0.4798\n",
      "Epoch 19/50\n",
      "\u001b[1m11/11\u001b[0m \u001b[32m━━━━━━━━━━━━━━━━━━━━\u001b[0m\u001b[37m\u001b[0m \u001b[1m0s\u001b[0m 7ms/step - accuracy: 1.0000 - loss: 0.0314 - val_accuracy: 0.9130 - val_loss: 0.4641\n",
      "Epoch 20/50\n",
      "\u001b[1m11/11\u001b[0m \u001b[32m━━━━━━━━━━━━━━━━━━━━\u001b[0m\u001b[37m\u001b[0m \u001b[1m0s\u001b[0m 7ms/step - accuracy: 1.0000 - loss: 0.0270 - val_accuracy: 0.9130 - val_loss: 0.4514\n",
      "Epoch 21/50\n",
      "\u001b[1m11/11\u001b[0m \u001b[32m━━━━━━━━━━━━━━━━━━━━\u001b[0m\u001b[37m\u001b[0m \u001b[1m0s\u001b[0m 7ms/step - accuracy: 1.0000 - loss: 0.0243 - val_accuracy: 0.9130 - val_loss: 0.4387\n",
      "Epoch 22/50\n",
      "\u001b[1m11/11\u001b[0m \u001b[32m━━━━━━━━━━━━━━━━━━━━\u001b[0m\u001b[37m\u001b[0m \u001b[1m0s\u001b[0m 7ms/step - accuracy: 1.0000 - loss: 0.0225 - val_accuracy: 0.9130 - val_loss: 0.4277\n",
      "Epoch 23/50\n",
      "\u001b[1m11/11\u001b[0m \u001b[32m━━━━━━━━━━━━━━━━━━━━\u001b[0m\u001b[37m\u001b[0m \u001b[1m0s\u001b[0m 7ms/step - accuracy: 1.0000 - loss: 0.0197 - val_accuracy: 0.9304 - val_loss: 0.4175\n",
      "Epoch 24/50\n",
      "\u001b[1m11/11\u001b[0m \u001b[32m━━━━━━━━━━━━━━━━━━━━\u001b[0m\u001b[37m\u001b[0m \u001b[1m0s\u001b[0m 7ms/step - accuracy: 1.0000 - loss: 0.0171 - val_accuracy: 0.9304 - val_loss: 0.4092\n",
      "Epoch 25/50\n",
      "\u001b[1m11/11\u001b[0m \u001b[32m━━━━━━━━━━━━━━━━━━━━\u001b[0m\u001b[37m\u001b[0m \u001b[1m0s\u001b[0m 8ms/step - accuracy: 1.0000 - loss: 0.0159 - val_accuracy: 0.9304 - val_loss: 0.4016\n",
      "Epoch 26/50\n",
      "\u001b[1m11/11\u001b[0m \u001b[32m━━━━━━━━━━━━━━━━━━━━\u001b[0m\u001b[37m\u001b[0m \u001b[1m0s\u001b[0m 7ms/step - accuracy: 1.0000 - loss: 0.0147 - val_accuracy: 0.9304 - val_loss: 0.3935\n",
      "Epoch 27/50\n",
      "\u001b[1m11/11\u001b[0m \u001b[32m━━━━━━━━━━━━━━━━━━━━\u001b[0m\u001b[37m\u001b[0m \u001b[1m0s\u001b[0m 7ms/step - accuracy: 1.0000 - loss: 0.0130 - val_accuracy: 0.9304 - val_loss: 0.3871\n",
      "Epoch 28/50\n",
      "\u001b[1m11/11\u001b[0m \u001b[32m━━━━━━━━━━━━━━━━━━━━\u001b[0m\u001b[37m\u001b[0m \u001b[1m0s\u001b[0m 7ms/step - accuracy: 1.0000 - loss: 0.0127 - val_accuracy: 0.9304 - val_loss: 0.3808\n",
      "Epoch 29/50\n",
      "\u001b[1m11/11\u001b[0m \u001b[32m━━━━━━━━━━━━━━━━━━━━\u001b[0m\u001b[37m\u001b[0m \u001b[1m0s\u001b[0m 7ms/step - accuracy: 1.0000 - loss: 0.0116 - val_accuracy: 0.9304 - val_loss: 0.3751\n",
      "Epoch 30/50\n",
      "\u001b[1m11/11\u001b[0m \u001b[32m━━━━━━━━━━━━━━━━━━━━\u001b[0m\u001b[37m\u001b[0m \u001b[1m0s\u001b[0m 7ms/step - accuracy: 1.0000 - loss: 0.0106 - val_accuracy: 0.9304 - val_loss: 0.3695\n",
      "Epoch 31/50\n",
      "\u001b[1m11/11\u001b[0m \u001b[32m━━━━━━━━━━━━━━━━━━━━\u001b[0m\u001b[37m\u001b[0m \u001b[1m0s\u001b[0m 7ms/step - accuracy: 1.0000 - loss: 0.0098 - val_accuracy: 0.9304 - val_loss: 0.3643\n",
      "Epoch 32/50\n",
      "\u001b[1m11/11\u001b[0m \u001b[32m━━━━━━━━━━━━━━━━━━━━\u001b[0m\u001b[37m\u001b[0m \u001b[1m0s\u001b[0m 7ms/step - accuracy: 1.0000 - loss: 0.0096 - val_accuracy: 0.9304 - val_loss: 0.3592\n",
      "Epoch 33/50\n",
      "\u001b[1m11/11\u001b[0m \u001b[32m━━━━━━━━━━━━━━━━━━━━\u001b[0m\u001b[37m\u001b[0m \u001b[1m0s\u001b[0m 7ms/step - accuracy: 1.0000 - loss: 0.0088 - val_accuracy: 0.9304 - val_loss: 0.3548\n",
      "Epoch 34/50\n",
      "\u001b[1m11/11\u001b[0m \u001b[32m━━━━━━━━━━━━━━━━━━━━\u001b[0m\u001b[37m\u001b[0m \u001b[1m0s\u001b[0m 7ms/step - accuracy: 1.0000 - loss: 0.0084 - val_accuracy: 0.9304 - val_loss: 0.3507\n",
      "Epoch 35/50\n",
      "\u001b[1m11/11\u001b[0m \u001b[32m━━━━━━━━━━━━━━━━━━━━\u001b[0m\u001b[37m\u001b[0m \u001b[1m0s\u001b[0m 7ms/step - accuracy: 1.0000 - loss: 0.0077 - val_accuracy: 0.9304 - val_loss: 0.3471\n",
      "Epoch 36/50\n",
      "\u001b[1m11/11\u001b[0m \u001b[32m━━━━━━━━━━━━━━━━━━━━\u001b[0m\u001b[37m\u001b[0m \u001b[1m0s\u001b[0m 7ms/step - accuracy: 1.0000 - loss: 0.0071 - val_accuracy: 0.9304 - val_loss: 0.3433\n",
      "Epoch 37/50\n",
      "\u001b[1m11/11\u001b[0m \u001b[32m━━━━━━━━━━━━━━━━━━━━\u001b[0m\u001b[37m\u001b[0m \u001b[1m0s\u001b[0m 6ms/step - accuracy: 1.0000 - loss: 0.0068 - val_accuracy: 0.9304 - val_loss: 0.3396\n",
      "Epoch 38/50\n",
      "\u001b[1m11/11\u001b[0m \u001b[32m━━━━━━━━━━━━━━━━━━━━\u001b[0m\u001b[37m\u001b[0m \u001b[1m0s\u001b[0m 7ms/step - accuracy: 1.0000 - loss: 0.0062 - val_accuracy: 0.9304 - val_loss: 0.3364\n",
      "Epoch 39/50\n",
      "\u001b[1m11/11\u001b[0m \u001b[32m━━━━━━━━━━━━━━━━━━━━\u001b[0m\u001b[37m\u001b[0m \u001b[1m0s\u001b[0m 7ms/step - accuracy: 1.0000 - loss: 0.0063 - val_accuracy: 0.9304 - val_loss: 0.3330\n",
      "Epoch 40/50\n",
      "\u001b[1m11/11\u001b[0m \u001b[32m━━━━━━━━━━━━━━━━━━━━\u001b[0m\u001b[37m\u001b[0m \u001b[1m0s\u001b[0m 7ms/step - accuracy: 1.0000 - loss: 0.0057 - val_accuracy: 0.9304 - val_loss: 0.3301\n",
      "Epoch 41/50\n",
      "\u001b[1m11/11\u001b[0m \u001b[32m━━━━━━━━━━━━━━━━━━━━\u001b[0m\u001b[37m\u001b[0m \u001b[1m0s\u001b[0m 7ms/step - accuracy: 1.0000 - loss: 0.0056 - val_accuracy: 0.9304 - val_loss: 0.3274\n",
      "Epoch 42/50\n",
      "\u001b[1m11/11\u001b[0m \u001b[32m━━━━━━━━━━━━━━━━━━━━\u001b[0m\u001b[37m\u001b[0m \u001b[1m0s\u001b[0m 7ms/step - accuracy: 1.0000 - loss: 0.0051 - val_accuracy: 0.9304 - val_loss: 0.3245\n",
      "Epoch 43/50\n",
      "\u001b[1m11/11\u001b[0m \u001b[32m━━━━━━━━━━━━━━━━━━━━\u001b[0m\u001b[37m\u001b[0m \u001b[1m0s\u001b[0m 7ms/step - accuracy: 1.0000 - loss: 0.0051 - val_accuracy: 0.9304 - val_loss: 0.3217\n",
      "Epoch 44/50\n",
      "\u001b[1m11/11\u001b[0m \u001b[32m━━━━━━━━━━━━━━━━━━━━\u001b[0m\u001b[37m\u001b[0m \u001b[1m0s\u001b[0m 7ms/step - accuracy: 1.0000 - loss: 0.0049 - val_accuracy: 0.9304 - val_loss: 0.3194\n",
      "Epoch 45/50\n",
      "\u001b[1m11/11\u001b[0m \u001b[32m━━━━━━━━━━━━━━━━━━━━\u001b[0m\u001b[37m\u001b[0m \u001b[1m0s\u001b[0m 7ms/step - accuracy: 1.0000 - loss: 0.0044 - val_accuracy: 0.9304 - val_loss: 0.3170\n",
      "Epoch 46/50\n",
      "\u001b[1m11/11\u001b[0m \u001b[32m━━━━━━━━━━━━━━━━━━━━\u001b[0m\u001b[37m\u001b[0m \u001b[1m0s\u001b[0m 7ms/step - accuracy: 1.0000 - loss: 0.0043 - val_accuracy: 0.9304 - val_loss: 0.3147\n",
      "Epoch 47/50\n",
      "\u001b[1m11/11\u001b[0m \u001b[32m━━━━━━━━━━━━━━━━━━━━\u001b[0m\u001b[37m\u001b[0m \u001b[1m0s\u001b[0m 7ms/step - accuracy: 1.0000 - loss: 0.0043 - val_accuracy: 0.9304 - val_loss: 0.3126\n",
      "Epoch 48/50\n",
      "\u001b[1m11/11\u001b[0m \u001b[32m━━━━━━━━━━━━━━━━━━━━\u001b[0m\u001b[37m\u001b[0m \u001b[1m0s\u001b[0m 7ms/step - accuracy: 1.0000 - loss: 0.0041 - val_accuracy: 0.9304 - val_loss: 0.3105\n",
      "Epoch 49/50\n",
      "\u001b[1m11/11\u001b[0m \u001b[32m━━━━━━━━━━━━━━━━━━━━\u001b[0m\u001b[37m\u001b[0m \u001b[1m0s\u001b[0m 7ms/step - accuracy: 1.0000 - loss: 0.0038 - val_accuracy: 0.9304 - val_loss: 0.3084\n",
      "Epoch 50/50\n",
      "\u001b[1m11/11\u001b[0m \u001b[32m━━━━━━━━━━━━━━━━━━━━\u001b[0m\u001b[37m\u001b[0m \u001b[1m0s\u001b[0m 7ms/step - accuracy: 1.0000 - loss: 0.0038 - val_accuracy: 0.9304 - val_loss: 0.3064\n"
     ]
    },
    {
     "data": {
      "text/plain": [
       "<keras.src.callbacks.history.History at 0x22236e4ef10>"
      ]
     },
     "execution_count": 27,
     "metadata": {},
     "output_type": "execute_result"
    }
   ],
   "source": [
    "base_model.fit(x_train_pre, one_hot_train, epochs=50, validation_data=(x_val_pre, one_hot_val)) "
   ]
  },
  {
   "cell_type": "markdown",
   "metadata": {},
   "source": [
    "<h4>Evaluating Test Data</h4>"
   ]
  },
  {
   "cell_type": "code",
   "execution_count": 22,
   "metadata": {},
   "outputs": [
    {
     "name": "stdout",
     "output_type": "stream",
     "text": [
      "4/4 [==============================] - 2s 2ms/step - loss: 3.2677 - accuracy: 0.0522\n",
      "test loss, test acc: [3.2676854133605957, 0.052173912525177]\n"
     ]
    }
   ],
   "source": [
    "base_results = base_model.evaluate(x_test_pre, one_hot_test)\n",
    "print(\"test loss, test acc:\", base_results)"
   ]
  },
  {
   "cell_type": "markdown",
   "metadata": {},
   "source": [
    "<h3>MLP Model w/ Basic Original Dataset</h3>"
   ]
  },
  {
   "cell_type": "markdown",
   "metadata": {},
   "source": [
    "<h4>Training w/ Validation</h4>"
   ]
  },
  {
   "cell_type": "code",
   "execution_count": 23,
   "metadata": {},
   "outputs": [
    {
     "name": "stdout",
     "output_type": "stream",
     "text": [
      "Epoch 1/50\n",
      "11/11 [==============================] - 0s 11ms/step - loss: 3.3584 - accuracy: 0.0551 - val_loss: 2.9126 - val_accuracy: 0.1304\n",
      "Epoch 2/50\n",
      "11/11 [==============================] - 0s 4ms/step - loss: 2.7413 - accuracy: 0.1942 - val_loss: 2.6187 - val_accuracy: 0.2435\n",
      "Epoch 3/50\n",
      "11/11 [==============================] - 0s 4ms/step - loss: 2.3735 - accuracy: 0.3768 - val_loss: 2.3612 - val_accuracy: 0.3913\n",
      "Epoch 4/50\n",
      "11/11 [==============================] - 0s 4ms/step - loss: 2.0064 - accuracy: 0.5478 - val_loss: 2.0961 - val_accuracy: 0.4870\n",
      "Epoch 5/50\n",
      "11/11 [==============================] - 0s 4ms/step - loss: 1.6533 - accuracy: 0.6986 - val_loss: 1.8180 - val_accuracy: 0.6348\n",
      "Epoch 6/50\n",
      "11/11 [==============================] - 0s 4ms/step - loss: 1.2959 - accuracy: 0.8551 - val_loss: 1.5370 - val_accuracy: 0.7304\n",
      "Epoch 7/50\n",
      "11/11 [==============================] - 0s 4ms/step - loss: 0.9547 - accuracy: 0.9391 - val_loss: 1.2737 - val_accuracy: 0.7913\n",
      "Epoch 8/50\n",
      "11/11 [==============================] - 0s 6ms/step - loss: 0.6706 - accuracy: 0.9913 - val_loss: 1.0448 - val_accuracy: 0.8435\n",
      "Epoch 9/50\n",
      "11/11 [==============================] - 0s 4ms/step - loss: 0.4465 - accuracy: 0.9942 - val_loss: 0.8664 - val_accuracy: 0.8609\n",
      "Epoch 10/50\n",
      "11/11 [==============================] - 0s 3ms/step - loss: 0.2990 - accuracy: 1.0000 - val_loss: 0.7184 - val_accuracy: 0.9130\n",
      "Epoch 11/50\n",
      "11/11 [==============================] - 0s 3ms/step - loss: 0.1944 - accuracy: 1.0000 - val_loss: 0.6080 - val_accuracy: 0.9130\n",
      "Epoch 12/50\n",
      "11/11 [==============================] - 0s 3ms/step - loss: 0.1350 - accuracy: 1.0000 - val_loss: 0.5379 - val_accuracy: 0.9130\n",
      "Epoch 13/50\n",
      "11/11 [==============================] - 0s 3ms/step - loss: 0.0960 - accuracy: 1.0000 - val_loss: 0.4713 - val_accuracy: 0.9130\n",
      "Epoch 14/50\n",
      "11/11 [==============================] - 0s 3ms/step - loss: 0.0725 - accuracy: 1.0000 - val_loss: 0.4344 - val_accuracy: 0.9217\n",
      "Epoch 15/50\n",
      "11/11 [==============================] - 0s 3ms/step - loss: 0.0562 - accuracy: 1.0000 - val_loss: 0.4035 - val_accuracy: 0.9304\n",
      "Epoch 16/50\n",
      "11/11 [==============================] - 0s 2ms/step - loss: 0.0452 - accuracy: 1.0000 - val_loss: 0.3809 - val_accuracy: 0.9217\n",
      "Epoch 17/50\n",
      "11/11 [==============================] - 0s 3ms/step - loss: 0.0376 - accuracy: 1.0000 - val_loss: 0.3594 - val_accuracy: 0.9304\n",
      "Epoch 18/50\n",
      "11/11 [==============================] - 0s 3ms/step - loss: 0.0318 - accuracy: 1.0000 - val_loss: 0.3430 - val_accuracy: 0.9304\n",
      "Epoch 19/50\n",
      "11/11 [==============================] - 0s 2ms/step - loss: 0.0273 - accuracy: 1.0000 - val_loss: 0.3315 - val_accuracy: 0.9304\n",
      "Epoch 20/50\n",
      "11/11 [==============================] - 0s 2ms/step - loss: 0.0238 - accuracy: 1.0000 - val_loss: 0.3198 - val_accuracy: 0.9304\n",
      "Epoch 21/50\n",
      "11/11 [==============================] - 0s 3ms/step - loss: 0.0209 - accuracy: 1.0000 - val_loss: 0.3091 - val_accuracy: 0.9304\n",
      "Epoch 22/50\n",
      "11/11 [==============================] - 0s 3ms/step - loss: 0.0186 - accuracy: 1.0000 - val_loss: 0.3009 - val_accuracy: 0.9304\n",
      "Epoch 23/50\n",
      "11/11 [==============================] - 0s 4ms/step - loss: 0.0166 - accuracy: 1.0000 - val_loss: 0.2936 - val_accuracy: 0.9304\n",
      "Epoch 24/50\n",
      "11/11 [==============================] - 0s 3ms/step - loss: 0.0149 - accuracy: 1.0000 - val_loss: 0.2862 - val_accuracy: 0.9304\n",
      "Epoch 25/50\n",
      "11/11 [==============================] - 0s 3ms/step - loss: 0.0135 - accuracy: 1.0000 - val_loss: 0.2780 - val_accuracy: 0.9304\n",
      "Epoch 26/50\n",
      "11/11 [==============================] - 0s 2ms/step - loss: 0.0123 - accuracy: 1.0000 - val_loss: 0.2734 - val_accuracy: 0.9304\n",
      "Epoch 27/50\n",
      "11/11 [==============================] - 0s 3ms/step - loss: 0.0112 - accuracy: 1.0000 - val_loss: 0.2684 - val_accuracy: 0.9304\n",
      "Epoch 28/50\n",
      "11/11 [==============================] - 0s 3ms/step - loss: 0.0103 - accuracy: 1.0000 - val_loss: 0.2623 - val_accuracy: 0.9304\n",
      "Epoch 29/50\n",
      "11/11 [==============================] - 0s 3ms/step - loss: 0.0095 - accuracy: 1.0000 - val_loss: 0.2569 - val_accuracy: 0.9304\n",
      "Epoch 30/50\n",
      "11/11 [==============================] - 0s 3ms/step - loss: 0.0087 - accuracy: 1.0000 - val_loss: 0.2528 - val_accuracy: 0.9391\n",
      "Epoch 31/50\n",
      "11/11 [==============================] - 0s 3ms/step - loss: 0.0081 - accuracy: 1.0000 - val_loss: 0.2488 - val_accuracy: 0.9391\n",
      "Epoch 32/50\n",
      "11/11 [==============================] - 0s 3ms/step - loss: 0.0075 - accuracy: 1.0000 - val_loss: 0.2449 - val_accuracy: 0.9391\n",
      "Epoch 33/50\n",
      "11/11 [==============================] - 0s 3ms/step - loss: 0.0070 - accuracy: 1.0000 - val_loss: 0.2423 - val_accuracy: 0.9391\n",
      "Epoch 34/50\n",
      "11/11 [==============================] - 0s 3ms/step - loss: 0.0065 - accuracy: 1.0000 - val_loss: 0.2386 - val_accuracy: 0.9391\n",
      "Epoch 35/50\n",
      "11/11 [==============================] - 0s 3ms/step - loss: 0.0061 - accuracy: 1.0000 - val_loss: 0.2345 - val_accuracy: 0.9391\n",
      "Epoch 36/50\n",
      "11/11 [==============================] - 0s 3ms/step - loss: 0.0057 - accuracy: 1.0000 - val_loss: 0.2318 - val_accuracy: 0.9391\n",
      "Epoch 37/50\n",
      "11/11 [==============================] - 0s 3ms/step - loss: 0.0053 - accuracy: 1.0000 - val_loss: 0.2293 - val_accuracy: 0.9391\n",
      "Epoch 38/50\n",
      "11/11 [==============================] - 0s 3ms/step - loss: 0.0050 - accuracy: 1.0000 - val_loss: 0.2283 - val_accuracy: 0.9391\n",
      "Epoch 39/50\n",
      "11/11 [==============================] - 0s 4ms/step - loss: 0.0047 - accuracy: 1.0000 - val_loss: 0.2256 - val_accuracy: 0.9391\n",
      "Epoch 40/50\n",
      "11/11 [==============================] - 0s 3ms/step - loss: 0.0044 - accuracy: 1.0000 - val_loss: 0.2235 - val_accuracy: 0.9391\n",
      "Epoch 41/50\n",
      "11/11 [==============================] - 0s 3ms/step - loss: 0.0042 - accuracy: 1.0000 - val_loss: 0.2223 - val_accuracy: 0.9391\n",
      "Epoch 42/50\n",
      "11/11 [==============================] - 0s 3ms/step - loss: 0.0040 - accuracy: 1.0000 - val_loss: 0.2199 - val_accuracy: 0.9391\n",
      "Epoch 43/50\n",
      "11/11 [==============================] - 0s 3ms/step - loss: 0.0037 - accuracy: 1.0000 - val_loss: 0.2186 - val_accuracy: 0.9391\n",
      "Epoch 44/50\n",
      "11/11 [==============================] - 0s 3ms/step - loss: 0.0035 - accuracy: 1.0000 - val_loss: 0.2168 - val_accuracy: 0.9391\n",
      "Epoch 45/50\n",
      "11/11 [==============================] - 0s 3ms/step - loss: 0.0034 - accuracy: 1.0000 - val_loss: 0.2155 - val_accuracy: 0.9391\n",
      "Epoch 46/50\n",
      "11/11 [==============================] - 0s 3ms/step - loss: 0.0032 - accuracy: 1.0000 - val_loss: 0.2141 - val_accuracy: 0.9391\n",
      "Epoch 47/50\n",
      "11/11 [==============================] - 0s 3ms/step - loss: 0.0030 - accuracy: 1.0000 - val_loss: 0.2137 - val_accuracy: 0.9391\n",
      "Epoch 48/50\n",
      "11/11 [==============================] - 0s 3ms/step - loss: 0.0029 - accuracy: 1.0000 - val_loss: 0.2125 - val_accuracy: 0.9391\n",
      "Epoch 49/50\n",
      "11/11 [==============================] - 0s 3ms/step - loss: 0.0027 - accuracy: 1.0000 - val_loss: 0.2115 - val_accuracy: 0.9391\n",
      "Epoch 50/50\n",
      "11/11 [==============================] - 0s 3ms/step - loss: 0.0026 - accuracy: 1.0000 - val_loss: 0.2097 - val_accuracy: 0.9391\n"
     ]
    },
    {
     "data": {
      "text/plain": [
       "<tensorflow.python.keras.callbacks.History at 0x2134c56c8e0>"
      ]
     },
     "execution_count": 23,
     "metadata": {},
     "output_type": "execute_result"
    }
   ],
   "source": [
    "k_model.fit(x_train_transf, one_hot_train, epochs=50, validation_data=(x_val_transf, one_hot_val)) "
   ]
  },
  {
   "cell_type": "markdown",
   "metadata": {},
   "source": [
    "<h4>Evaluating Test Data</h4>"
   ]
  },
  {
   "cell_type": "code",
   "execution_count": 24,
   "metadata": {},
   "outputs": [
    {
     "name": "stdout",
     "output_type": "stream",
     "text": [
      "4/4 [==============================] - 0s 1ms/step - loss: 0.2226 - accuracy: 0.9478\n",
      "test loss, test acc: [0.2225845456123352, 0.947826087474823]\n"
     ]
    }
   ],
   "source": [
    "k_results = k_model.evaluate(x_test_transf, one_hot_test)\n",
    "print(\"test loss, test acc:\", k_results)"
   ]
  }
 ],
 "metadata": {
  "kernelspec": {
   "display_name": "Python 3 (ipykernel)",
   "language": "python",
   "name": "python3"
  },
  "language_info": {
   "codemirror_mode": {
    "name": "ipython",
    "version": 3
   },
   "file_extension": ".py",
   "mimetype": "text/x-python",
   "name": "python",
   "nbconvert_exporter": "python",
   "pygments_lexer": "ipython3",
   "version": "3.9.18"
  }
 },
 "nbformat": 4,
 "nbformat_minor": 4
}
